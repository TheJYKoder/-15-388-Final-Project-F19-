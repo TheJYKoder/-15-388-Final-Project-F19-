{
 "cells": [
  {
   "cell_type": "markdown",
   "metadata": {},
   "source": [
    "<h1><center>Drawing Conclusions using Faculty Course Evaluations (FCE) and other Data</center></h1>\n",
    "\n",
    "At the end of every semester, Carnegie Mellon University asks its students to complete Faculty Course Evaulations (FCEs). These evaluations gives the students the opportunity to rate the course and the professor by providing ratings (on a scale of 1 through 5) on various criterias such as 'Interest in Student Learning' and 'Demonstrate Importance of Subject Matter'. While many students merely use the FCE data to check how much hours one should commit to the class, this Jupyter Notebook will explore what other interesting questions we can ask using this data. Using the FCE data and other data gathered, we will be exploring the following questions:\n",
    "\n",
    "* Does Professor Title Have Anything to do FCE Ratings?\n",
    "* How accurate are RateMyProfessor reviews compared to the FCE data? \n",
    "* Are Courses Offered in the Summer Better than those Offered in the Year?"
   ]
  },
  {
   "cell_type": "markdown",
   "metadata": {},
   "source": [
    "## Getting Started\n",
    "We will first start by importing the necessary libraries."
   ]
  },
  {
   "cell_type": "code",
   "execution_count": 1,
   "metadata": {},
   "outputs": [],
   "source": [
    "import numpy as np\n",
    "import pandas as pd\n",
    "import matplotlib.pyplot as plt\n",
    "import seaborn as sns\n",
    "from scipy.stats import ttest_ind\n",
    "import math"
   ]
  },
  {
   "cell_type": "markdown",
   "metadata": {},
   "source": [
    "## Cleaning the FCE data\n",
    "Let us first observe what our data looks like."
   ]
  },
  {
   "cell_type": "code",
   "execution_count": 2,
   "metadata": {
    "scrolled": true
   },
   "outputs": [
    {
     "data": {
      "text/html": [
       "<div>\n",
       "<style scoped>\n",
       "    .dataframe tbody tr th:only-of-type {\n",
       "        vertical-align: middle;\n",
       "    }\n",
       "\n",
       "    .dataframe tbody tr th {\n",
       "        vertical-align: top;\n",
       "    }\n",
       "\n",
       "    .dataframe thead th {\n",
       "        text-align: right;\n",
       "    }\n",
       "</style>\n",
       "<table border=\"1\" class=\"dataframe\">\n",
       "  <thead>\n",
       "    <tr style=\"text-align: right;\">\n",
       "      <th></th>\n",
       "      <th>Year</th>\n",
       "      <th>Semester</th>\n",
       "      <th>College</th>\n",
       "      <th>Dept</th>\n",
       "      <th>Course ID</th>\n",
       "      <th>Section</th>\n",
       "      <th>Name</th>\n",
       "      <th>Course Name</th>\n",
       "      <th>Level</th>\n",
       "      <th>Possible Respondents</th>\n",
       "      <th>...</th>\n",
       "      <th>Hrs Per Week 8</th>\n",
       "      <th>Interest in student learning</th>\n",
       "      <th>Clearly explain course requirements</th>\n",
       "      <th>Clear learning objectives &amp; goals</th>\n",
       "      <th>Instructor provides feedback to students to improve</th>\n",
       "      <th>Demonstrate importance of subject matter</th>\n",
       "      <th>Explains subject matter of course</th>\n",
       "      <th>Show respect for all students</th>\n",
       "      <th>Overall teaching rate</th>\n",
       "      <th>Overall course rate</th>\n",
       "    </tr>\n",
       "  </thead>\n",
       "  <tbody>\n",
       "    <tr>\n",
       "      <td>0</td>\n",
       "      <td>2019</td>\n",
       "      <td>Fall</td>\n",
       "      <td>College of Fine Arts</td>\n",
       "      <td>ARC</td>\n",
       "      <td>48358</td>\n",
       "      <td>B1</td>\n",
       "      <td>BEN-ALON, RACHEL</td>\n",
       "      <td>EARTHEN BUILDING</td>\n",
       "      <td>Undergraduate</td>\n",
       "      <td>26</td>\n",
       "      <td>...</td>\n",
       "      <td>NaN</td>\n",
       "      <td>4.79</td>\n",
       "      <td>4.62</td>\n",
       "      <td>4.57</td>\n",
       "      <td>4.69</td>\n",
       "      <td>4.57</td>\n",
       "      <td>4.71</td>\n",
       "      <td>4.93</td>\n",
       "      <td>4.71</td>\n",
       "      <td>4.71</td>\n",
       "    </tr>\n",
       "    <tr>\n",
       "      <td>1</td>\n",
       "      <td>2019</td>\n",
       "      <td>Fall</td>\n",
       "      <td>College of Fine Arts</td>\n",
       "      <td>ARC</td>\n",
       "      <td>48358</td>\n",
       "      <td>A1</td>\n",
       "      <td>BEN-ALON, RACHEL</td>\n",
       "      <td>EARTHEN BUILDING</td>\n",
       "      <td>Undergraduate</td>\n",
       "      <td>8</td>\n",
       "      <td>...</td>\n",
       "      <td>NaN</td>\n",
       "      <td>5.00</td>\n",
       "      <td>5.00</td>\n",
       "      <td>4.83</td>\n",
       "      <td>4.83</td>\n",
       "      <td>5.00</td>\n",
       "      <td>4.83</td>\n",
       "      <td>5.00</td>\n",
       "      <td>4.33</td>\n",
       "      <td>4.17</td>\n",
       "    </tr>\n",
       "    <tr>\n",
       "      <td>2</td>\n",
       "      <td>2019</td>\n",
       "      <td>Fall</td>\n",
       "      <td>College of Fine Arts</td>\n",
       "      <td>ARC</td>\n",
       "      <td>48689</td>\n",
       "      <td>A1</td>\n",
       "      <td>KIM, MAN</td>\n",
       "      <td>DIGI SKLLS WRKSHP</td>\n",
       "      <td>Graduate</td>\n",
       "      <td>14</td>\n",
       "      <td>...</td>\n",
       "      <td>NaN</td>\n",
       "      <td>4.75</td>\n",
       "      <td>4.63</td>\n",
       "      <td>4.75</td>\n",
       "      <td>4.88</td>\n",
       "      <td>4.50</td>\n",
       "      <td>4.75</td>\n",
       "      <td>4.63</td>\n",
       "      <td>4.75</td>\n",
       "      <td>4.38</td>\n",
       "    </tr>\n",
       "    <tr>\n",
       "      <td>3</td>\n",
       "      <td>2019</td>\n",
       "      <td>Fall</td>\n",
       "      <td>College of Fine Arts</td>\n",
       "      <td>ARC</td>\n",
       "      <td>48753</td>\n",
       "      <td>A1</td>\n",
       "      <td>DAWKINS, MARANTHA</td>\n",
       "      <td>INTRO UD MED</td>\n",
       "      <td>Graduate</td>\n",
       "      <td>14</td>\n",
       "      <td>...</td>\n",
       "      <td>NaN</td>\n",
       "      <td>4.00</td>\n",
       "      <td>3.00</td>\n",
       "      <td>3.60</td>\n",
       "      <td>4.40</td>\n",
       "      <td>3.60</td>\n",
       "      <td>3.40</td>\n",
       "      <td>4.60</td>\n",
       "      <td>3.60</td>\n",
       "      <td>3.20</td>\n",
       "    </tr>\n",
       "    <tr>\n",
       "      <td>4</td>\n",
       "      <td>2019</td>\n",
       "      <td>Fall</td>\n",
       "      <td>College of Fine Arts</td>\n",
       "      <td>ART</td>\n",
       "      <td>60131</td>\n",
       "      <td>A1</td>\n",
       "      <td>GURYSH, STEVEN</td>\n",
       "      <td>3D MEDIA STUDIO I</td>\n",
       "      <td>Undergraduate</td>\n",
       "      <td>11</td>\n",
       "      <td>...</td>\n",
       "      <td>NaN</td>\n",
       "      <td>4.88</td>\n",
       "      <td>4.63</td>\n",
       "      <td>4.86</td>\n",
       "      <td>4.86</td>\n",
       "      <td>4.57</td>\n",
       "      <td>4.86</td>\n",
       "      <td>5.00</td>\n",
       "      <td>4.86</td>\n",
       "      <td>4.71</td>\n",
       "    </tr>\n",
       "  </tbody>\n",
       "</table>\n",
       "<p>5 rows × 24 columns</p>\n",
       "</div>"
      ],
      "text/plain": [
       "   Year Semester                College Dept Course ID Section  \\\n",
       "0  2019     Fall   College of Fine Arts  ARC     48358      B1   \n",
       "1  2019     Fall   College of Fine Arts  ARC     48358      A1   \n",
       "2  2019     Fall   College of Fine Arts  ARC     48689      A1   \n",
       "3  2019     Fall   College of Fine Arts  ARC     48753      A1   \n",
       "4  2019     Fall   College of Fine Arts  ART     60131      A1   \n",
       "\n",
       "                Name        Course Name          Level  Possible Respondents  \\\n",
       "0   BEN-ALON, RACHEL   EARTHEN BUILDING  Undergraduate                    26   \n",
       "1   BEN-ALON, RACHEL   EARTHEN BUILDING  Undergraduate                     8   \n",
       "2           KIM, MAN  DIGI SKLLS WRKSHP       Graduate                    14   \n",
       "3  DAWKINS, MARANTHA       INTRO UD MED       Graduate                    14   \n",
       "4     GURYSH, STEVEN  3D MEDIA STUDIO I  Undergraduate                    11   \n",
       "\n",
       "   ...  Hrs Per Week 8  Interest in student learning  \\\n",
       "0  ...             NaN                          4.79   \n",
       "1  ...             NaN                          5.00   \n",
       "2  ...             NaN                          4.75   \n",
       "3  ...             NaN                          4.00   \n",
       "4  ...             NaN                          4.88   \n",
       "\n",
       "   Clearly explain course requirements  Clear learning objectives & goals  \\\n",
       "0                                 4.62                               4.57   \n",
       "1                                 5.00                               4.83   \n",
       "2                                 4.63                               4.75   \n",
       "3                                 3.00                               3.60   \n",
       "4                                 4.63                               4.86   \n",
       "\n",
       "   Instructor provides feedback to students to improve  \\\n",
       "0                                               4.69     \n",
       "1                                               4.83     \n",
       "2                                               4.88     \n",
       "3                                               4.40     \n",
       "4                                               4.86     \n",
       "\n",
       "   Demonstrate importance of subject matter  \\\n",
       "0                                      4.57   \n",
       "1                                      5.00   \n",
       "2                                      4.50   \n",
       "3                                      3.60   \n",
       "4                                      4.57   \n",
       "\n",
       "   Explains subject matter of course  Show respect for all students  \\\n",
       "0                               4.71                           4.93   \n",
       "1                               4.83                           5.00   \n",
       "2                               4.75                           4.63   \n",
       "3                               3.40                           4.60   \n",
       "4                               4.86                           5.00   \n",
       "\n",
       "   Overall teaching rate  Overall course rate  \n",
       "0                   4.71                 4.71  \n",
       "1                   4.33                 4.17  \n",
       "2                   4.75                 4.38  \n",
       "3                   3.60                 3.20  \n",
       "4                   4.86                 4.71  \n",
       "\n",
       "[5 rows x 24 columns]"
      ]
     },
     "execution_count": 2,
     "metadata": {},
     "output_type": "execute_result"
    }
   ],
   "source": [
    "df = pd.read_csv(\"fce.csv\")\n",
    "df.head()"
   ]
  },
  {
   "cell_type": "code",
   "execution_count": 3,
   "metadata": {},
   "outputs": [
    {
     "name": "stdout",
     "output_type": "stream",
     "text": [
      "Year                                                       0\n",
      "Semester                                                   0\n",
      "College                                                    0\n",
      "Dept                                                       0\n",
      "Course ID                                                  0\n",
      "Section                                                    0\n",
      "Name                                                       1\n",
      "Course Name                                                0\n",
      "Level                                                      0\n",
      "Possible Respondents                                       0\n",
      "Num Respondents                                            0\n",
      "Response Rate %                                            0\n",
      "Hrs Per Week                                           20635\n",
      "Hrs Per Week 5                                         37504\n",
      "Hrs Per Week 8                                         42744\n",
      "Interest in student learning                            1661\n",
      "Clearly explain course requirements                     1669\n",
      "Clear learning objectives & goals                       1677\n",
      "Instructor provides feedback to students to improve     1675\n",
      "Demonstrate importance of subject matter                1680\n",
      "Explains subject matter of course                       1686\n",
      "Show respect for all students                           1684\n",
      "Overall teaching rate                                     81\n",
      "Overall course rate                                       66\n",
      "dtype: int64\n"
     ]
    }
   ],
   "source": [
    "print(df.isna().sum())"
   ]
  },
  {
   "cell_type": "markdown",
   "metadata": {},
   "source": [
    "Let us clean our data to make it easier to process. There seems to a row where \"Name\" has a value of NaN. We will drop this row."
   ]
  },
  {
   "cell_type": "code",
   "execution_count": 4,
   "metadata": {},
   "outputs": [],
   "source": [
    "df = df[pd.notnull(df['Name'])]  # Dropping all rows with column 'Name' = NaN "
   ]
  },
  {
   "cell_type": "markdown",
   "metadata": {},
   "source": [
    "There seems to be a lot of NaN values for columns 'Hrs Per Week 5' and 'Hrs Per Week 8', so we will drop those columns. For the remaining columns with NaN values, we will replace those values with the mean of their respective column"
   ]
  },
  {
   "cell_type": "code",
   "execution_count": 5,
   "metadata": {},
   "outputs": [],
   "source": [
    "df = df[df[\"College\"] != \"Teaching Assistants\"]\n",
    "if \"Hrs Per Week 5\" in df.columns and \"Hrs Per Week 8\" in df.columns:\n",
    "    df = df.drop(columns=[\"Hrs Per Week 5\", \"Hrs Per Week 8\"])"
   ]
  },
  {
   "cell_type": "markdown",
   "metadata": {},
   "source": [
    "Let us verify we do not have any more NaN values."
   ]
  },
  {
   "cell_type": "code",
   "execution_count": 6,
   "metadata": {},
   "outputs": [
    {
     "name": "stdout",
     "output_type": "stream",
     "text": [
      "Year                                                   0\n",
      "Semester                                               0\n",
      "College                                                0\n",
      "Dept                                                   0\n",
      "Course ID                                              0\n",
      "Section                                                0\n",
      "Name                                                   0\n",
      "Course Name                                            0\n",
      "Level                                                  0\n",
      "Possible Respondents                                   0\n",
      "Num Respondents                                        0\n",
      "Response Rate %                                        0\n",
      "Hrs Per Week                                           0\n",
      "Interest in student learning                           0\n",
      "Clearly explain course requirements                    0\n",
      "Clear learning objectives & goals                      0\n",
      "Instructor provides feedback to students to improve    0\n",
      "Demonstrate importance of subject matter               0\n",
      "Explains subject matter of course                      0\n",
      "Show respect for all students                          0\n",
      "Overall teaching rate                                  0\n",
      "Overall course rate                                    0\n",
      "dtype: int64\n"
     ]
    }
   ],
   "source": [
    "lst = df.columns[df.isnull().any()].tolist()\n",
    "df[lst] = df[lst].fillna(df[lst].mean())\n",
    "print(df.isna().sum())"
   ]
  },
  {
   "cell_type": "markdown",
   "metadata": {},
   "source": [
    "Now that we have cleaned up the FCE data, let us use this to ask questions about Carnegie Mellon Courses and Faculty."
   ]
  },
  {
   "cell_type": "markdown",
   "metadata": {},
   "source": [
    "## Average FCE Hours By Department\n",
    "We are curious about the average FCE hours by department. Let us create a visualization to see which department tends to have the highest FCE hours."
   ]
  },
  {
   "cell_type": "code",
   "execution_count": 7,
   "metadata": {},
   "outputs": [
    {
     "data": {
      "image/png": "[encoded data removed]",
      "text/plain": [
       "<Figure size 432x288 with 1 Axes>"
      ]
     },
     "metadata": {
      "needs_background": "light"
     },
     "output_type": "display_data"
    }
   ],
   "source": [
    "df_grad = df[df['Level'] == \"Graduate\"]\n",
    "df_undergrad = df[df['Level'] == \"Undergraduate\"]\n",
    "\n",
    "department_id = {############SCS###############\n",
    "                \"Computer Science\": \"15\",\n",
    "                \"Machine Learning\": \"10\",\n",
    "                 ############MCS###############\n",
    "                 \"Mathematical Sciences\": \"21\",\n",
    "                 \"Biological Sciences\": \"03\",\n",
    "                 \"Physics\": \"03\",\n",
    "                 \"Chemistry\": \"05\",\n",
    "                 ############CIT###############\n",
    "                 \"Electrical and Computer Engineering\": \"18\",\n",
    "                 ############DC################\n",
    "                 \"Philosophy\": \"80\",\n",
    "                 \"Statistics and Data Science\": \"36\",\n",
    "                 \"History\": \"79\",\n",
    "                 \"Information Systems\": \"67\",\n",
    "                 \"English\": \"76\"}\n",
    "\n",
    "id_list = []\n",
    "hour_list = []\n",
    "\n",
    "for ids in department_id:\n",
    "    id_list.append(ids)\n",
    "    hour_list.append(df_undergrad[df_undergrad[\"Course ID\"].str.startswith(department_id[ids])][\"Hrs Per Week\"].mean())\n",
    "\n",
    "pos = [hour[0] for hour in enumerate(hour_list)]\n",
    "    \n",
    "plt.bar(pos, hour_list, align='center', alpha=0.5)\n",
    "plt.xticks(pos, id_list)\n",
    "plt.xticks(rotation=90)\n",
    "plt.ylabel('Hours')\n",
    "\n",
    "plt.show()"
   ]
  },
  {
   "cell_type": "markdown",
   "metadata": {},
   "source": [
    "## MCS Faculty: Teaching vs. Tenure Professors\n"
   ]
  },
  {
   "cell_type": "code",
   "execution_count": 8,
   "metadata": {},
   "outputs": [
    {
     "name": "stdout",
     "output_type": "stream",
     "text": [
      "Mathematical Sciences 4.140443585973592 4.38673073484636\n",
      "Physics 4.407427317731773 4.033054088825235\n",
      "Chemistry 3.934956415468609 4.103659547987251\n",
      "Biological Sciences 4.29930238791423 4.155974640594837\n"
     ]
    }
   ],
   "source": [
    "def process_name(s):\n",
    "    name_str = s.upper()\n",
    "    name = name_str.split(\" \")\n",
    "    return name[1] + \", \" + name[0]\n",
    "\n",
    "#(list of teaching ratings, list of tenure ratings)\n",
    "def getTeachingVsTenure(mcs_faculty, department):\n",
    "    mcs = mcs_faculty[mcs_faculty[\"Department\"] == department]\n",
    "    mcs_teaching = mcs[mcs['Title'].str.contains(\"Teaching\", na=False)]\n",
    "    mcs_tenure_temp = mcs[~mcs['Title'].str.contains(\"Teaching\", na=False)]\n",
    "    mcs_tenure = mcs_tenure_temp[mcs_tenure_temp['Title'].str.contains(\"Professor\", na=False)]\n",
    "    teaching_faculty = {}\n",
    "    tenure_faculty = {}\n",
    "\n",
    "    for x in mcs_teaching[\"Name\"]:\n",
    "        person = df[df[\"Name\"] == x]\n",
    "        rating = person[\"Overall course rate\"].mean()\n",
    "        if not math.isnan(rating): teaching_faculty[x] = rating\n",
    "\n",
    "    for x in mcs_tenure[\"Name\"]:\n",
    "        person = df[df[\"Name\"] == x]\n",
    "        rating = person[\"Overall course rate\"].mean()\n",
    "        if not math.isnan(rating): tenure_faculty[x] = rating\n",
    "    \n",
    "    teachingList = [teaching_faculty[x] for x in teaching_faculty]\n",
    "    tenureList = [tenure_faculty[x] for x in tenure_faculty]\n",
    "    return teachingList, tenureList\n",
    "\n",
    "mcs_faculty = pd.read_csv(\"mcs_faculty.csv\")\n",
    "mcs_faculty['Name'] = mcs_faculty['Name'].apply(process_name)\n",
    "\n",
    "departments = [\"Mathematical Sciences\", \"Physics\", \"Chemistry\", \"Biological Sciences\"]\n",
    "\n",
    "for d in departments:\n",
    "    teaching, tenure = getTeachingVsTenure(mcs_faculty, d)\n",
    "    print(d, sum(teaching)/len(teaching), sum(tenure)/len(tenure))"
   ]
  },
  {
   "cell_type": "markdown",
   "metadata": {},
   "source": [
    "## Are Summer Courses Better than Year Courses?"
   ]
  },
  {
   "cell_type": "code",
   "execution_count": 9,
   "metadata": {},
   "outputs": [
    {
     "data": {
      "image/png": "[encoded data removed]",
      "text/plain": [
       "<Figure size 1440x720 with 1 Axes>"
      ]
     },
     "metadata": {
      "needs_background": "light"
     },
     "output_type": "display_data"
    }
   ],
   "source": [
    "df_summer = df[df['Semester'] == \"Summer\"]\n",
    "df_year = df[df['Semester'] != \"Summer\"]\n",
    "\n",
    "courses = open(\"summer_courses_id.txt\", \"r\").read().split()\n",
    "\n",
    "summer_rate = []\n",
    "year_rate = []\n",
    "\n",
    "for cls in courses:\n",
    "    summer_rate.append(df_summer[df_summer['Course ID'] == cls][\"Overall course rate\"].mean())\n",
    "    year_rate.append(df_year[df_year['Course ID'] == cls][\"Overall course rate\"].mean())\n",
    "\n",
    "N = len(courses)\n",
    "summer = summer_rate\n",
    "\n",
    "ind = np.arange(N)  # the x locations for the groups\n",
    "width = 0.35       # the width of the bars\n",
    "\n",
    "fig, ax = plt.subplots(figsize=(20, 10))\n",
    "bar1 = ax.bar(ind, summer, width, color='r')\n",
    "\n",
    "year = year_rate\n",
    "bar2 = ax.bar(ind + width, year, width, color='y')\n",
    "\n",
    "# add some text for labels, title and axes ticks\n",
    "ax.set_ylabel('Overall Course Rating')\n",
    "ax.set_title(\"Overall Course Rating: Summer vs. School Year\")\n",
    "ax.set_xticks(ind + width / 2)\n",
    "ax.set_xticklabels(courses)\n",
    "plt.xticks(rotation=90)\n",
    "\n",
    "ax.legend((bar1[0], bar2[0]), ('Summer', 'School Year'))\n",
    "\n",
    "plt.show()"
   ]
  },
  {
   "cell_type": "code",
   "execution_count": null,
   "metadata": {},
   "outputs": [],
   "source": []
  },
  {
   "cell_type": "code",
   "execution_count": null,
   "metadata": {},
   "outputs": [],
   "source": []
  },
  {
   "cell_type": "code",
   "execution_count": null,
   "metadata": {},
   "outputs": [],
   "source": []
  },
  {
   "cell_type": "code",
   "execution_count": 10,
   "metadata": {},
   "outputs": [
    {
     "name": "stdout",
     "output_type": "stream",
     "text": [
      "Number of data points for graduate is 20070 \n",
      "\n",
      "Number of data points for undergraduate is 29465\n"
     ]
    }
   ],
   "source": [
    "df_grad = df[df['Level'] == \"Graduate\"]\n",
    "df_undergrad = df[df['Level'] == \"Undergraduate\"]\n",
    "print(\"Number of data points for graduate is\", len(df_grad),\"\\n\")\n",
    "print(\"Number of data points for undergraduate is\", len(df_undergrad))"
   ]
  },
  {
   "cell_type": "code",
   "execution_count": 11,
   "metadata": {},
   "outputs": [],
   "source": [
    "avg_grad_fce = df_grad.groupby([\"Year\", \"College\"], as_index=False).mean()\n",
    "avg_undergrad_fce = df_undergrad.groupby([\"Year\", \"College\"], as_index=False).mean()"
   ]
  },
  {
   "cell_type": "code",
   "execution_count": 12,
   "metadata": {},
   "outputs": [
    {
     "data": {
      "text/plain": [
       "<seaborn.axisgrid.FacetGrid at 0x1b288841a90>"
      ]
     },
     "execution_count": 12,
     "metadata": {},
     "output_type": "execute_result"
    },
    {
     "data": {
      "image/png": "[encoded data removed]",
      "text/plain": [
       "<Figure size 1736x216 with 8 Axes>"
      ]
     },
     "metadata": {
      "needs_background": "light"
     },
     "output_type": "display_data"
    }
   ],
   "source": [
    "avg_grad_fce = avg_grad_fce.groupby([\"Year\", \"College\"], as_index=False).mean()\n",
    "avg_grad_fce = avg_grad_fce[[\"Year\", \"College\",\"Hrs Per Week\"]]\n",
    "\n",
    "g = sns.FacetGrid(avg_grad_fce, col=\"College\")\n",
    "g.map(plt.plot,\"Year\", \"Hrs Per Week\")\n",
    "g.add_legend()"
   ]
  },
  {
   "cell_type": "code",
   "execution_count": 13,
   "metadata": {},
   "outputs": [
    {
     "data": {
      "text/plain": [
       "<seaborn.axisgrid.FacetGrid at 0x1b28a8bdd30>"
      ]
     },
     "execution_count": 13,
     "metadata": {},
     "output_type": "execute_result"
    },
    {
     "data": {
      "image/png": "[encoded data removed]",
      "text/plain": [
       "<Figure size 1736x216 with 8 Axes>"
      ]
     },
     "metadata": {
      "needs_background": "light"
     },
     "output_type": "display_data"
    }
   ],
   "source": [
    "avg_undergrad_fce = avg_undergrad_fce.groupby([\"Year\", \"College\"], as_index=False).mean()\n",
    "avg_undergrad_fce = avg_undergrad_fce[[\"Year\", \"College\",\"Hrs Per Week\"]]\n",
    "\n",
    "g = sns.FacetGrid(avg_undergrad_fce, col=\"College\")\n",
    "g.map(plt.plot,\"Year\", \"Hrs Per Week\")\n",
    "g.add_legend()"
   ]
  },
  {
   "cell_type": "markdown",
   "metadata": {},
   "source": [
    "We can find some interesting results based on the graphs above. \n",
    "* For graduates at CMU, the FCE seem to be having an increasing trend over the years, peaking around 2017, and then gradually decrease till now. Whereas for the undergrads at CMU, the FCE seem to be decreasing, with a slight increase at 2019. \n",
    "* The **School of Computer Science** has the **greatest increase**, with an approximately 5 hours of increase from 2013 to 2019 for the graduates(9hr -> 14hr), and approximately 3 hours of increase from (9hr -> 12hr). Some possible explanation for this might be:\n",
    "    * CS classes are getting harder and students need to spend more time on them.\n",
    "    * More people outside SCS might be interested in CS, and they might tend to spend more time on CS classes than CS majors. <br>\n",
    "    \n",
    "Cite: this dataset is also used in CMU Data Science Club's Challenges, so this part (FCE by college) might appear similar. <br>\n",
    "Now let's do some analysis on the **correlation of the columns**."
   ]
  },
  {
   "cell_type": "code",
   "execution_count": 14,
   "metadata": {},
   "outputs": [
    {
     "ename": "KeyError",
     "evalue": "\"['Year'] not found in axis\"",
     "output_type": "error",
     "traceback": [
      "\u001b[1;31m---------------------------------------------------------------------------\u001b[0m",
      "\u001b[1;31mKeyError\u001b[0m                                  Traceback (most recent call last)",
      "\u001b[1;32m<ipython-input-14-2c2c1a77a838>\u001b[0m in \u001b[0;36m<module>\u001b[1;34m\u001b[0m\n\u001b[0;32m      3\u001b[0m \u001b[0mcorr_lst\u001b[0m \u001b[1;33m=\u001b[0m \u001b[0mlist\u001b[0m\u001b[1;33m(\u001b[0m\u001b[0mdf\u001b[0m\u001b[1;33m.\u001b[0m\u001b[0mselect_dtypes\u001b[0m\u001b[1;33m(\u001b[0m\u001b[0minclude\u001b[0m\u001b[1;33m=\u001b[0m\u001b[1;33m[\u001b[0m\u001b[1;34m'int'\u001b[0m\u001b[1;33m,\u001b[0m \u001b[1;34m'float'\u001b[0m\u001b[1;33m]\u001b[0m\u001b[1;33m)\u001b[0m\u001b[1;33m.\u001b[0m\u001b[0mcolumns\u001b[0m\u001b[1;33m)\u001b[0m\u001b[1;33m\u001b[0m\u001b[0m\n\u001b[0;32m      4\u001b[0m \u001b[0mcorr_df\u001b[0m \u001b[1;33m=\u001b[0m \u001b[0mdf\u001b[0m\u001b[1;33m[\u001b[0m\u001b[0mcorr_lst\u001b[0m\u001b[1;33m]\u001b[0m\u001b[1;33m\u001b[0m\u001b[0m\n\u001b[1;32m----> 5\u001b[1;33m \u001b[0mcorr_df\u001b[0m\u001b[1;33m.\u001b[0m\u001b[0mdrop\u001b[0m\u001b[1;33m(\u001b[0m\u001b[1;34m\"Year\"\u001b[0m\u001b[1;33m,\u001b[0m \u001b[0maxis\u001b[0m\u001b[1;33m=\u001b[0m\u001b[1;36m1\u001b[0m\u001b[1;33m,\u001b[0m \u001b[0minplace\u001b[0m\u001b[1;33m=\u001b[0m\u001b[1;32mTrue\u001b[0m\u001b[1;33m)\u001b[0m\u001b[1;33m\u001b[0m\u001b[0m\n\u001b[0m\u001b[0;32m      6\u001b[0m \u001b[0mcorr\u001b[0m \u001b[1;33m=\u001b[0m \u001b[0mcorr_df\u001b[0m\u001b[1;33m.\u001b[0m\u001b[0mcorr\u001b[0m\u001b[1;33m(\u001b[0m\u001b[1;33m)\u001b[0m\u001b[1;33m\u001b[0m\u001b[0m\n\u001b[0;32m      7\u001b[0m \u001b[0msns\u001b[0m\u001b[1;33m.\u001b[0m\u001b[0mset\u001b[0m\u001b[1;33m(\u001b[0m\u001b[0mfont_scale\u001b[0m\u001b[1;33m=\u001b[0m\u001b[1;36m1.5\u001b[0m\u001b[1;33m)\u001b[0m\u001b[1;33m\u001b[0m\u001b[0m\n",
      "\u001b[1;32mc:\\users\\thejy\\appdata\\local\\programs\\python\\python36\\lib\\site-packages\\pandas\\core\\frame.py\u001b[0m in \u001b[0;36mdrop\u001b[1;34m(self, labels, axis, index, columns, level, inplace, errors)\u001b[0m\n\u001b[0;32m   4100\u001b[0m             \u001b[0mlevel\u001b[0m\u001b[1;33m=\u001b[0m\u001b[0mlevel\u001b[0m\u001b[1;33m,\u001b[0m\u001b[1;33m\u001b[0m\u001b[0m\n\u001b[0;32m   4101\u001b[0m             \u001b[0minplace\u001b[0m\u001b[1;33m=\u001b[0m\u001b[0minplace\u001b[0m\u001b[1;33m,\u001b[0m\u001b[1;33m\u001b[0m\u001b[0m\n\u001b[1;32m-> 4102\u001b[1;33m             \u001b[0merrors\u001b[0m\u001b[1;33m=\u001b[0m\u001b[0merrors\u001b[0m\u001b[1;33m,\u001b[0m\u001b[1;33m\u001b[0m\u001b[0m\n\u001b[0m\u001b[0;32m   4103\u001b[0m         )\n\u001b[0;32m   4104\u001b[0m \u001b[1;33m\u001b[0m\u001b[0m\n",
      "\u001b[1;32mc:\\users\\thejy\\appdata\\local\\programs\\python\\python36\\lib\\site-packages\\pandas\\core\\generic.py\u001b[0m in \u001b[0;36mdrop\u001b[1;34m(self, labels, axis, index, columns, level, inplace, errors)\u001b[0m\n\u001b[0;32m   3912\u001b[0m         \u001b[1;32mfor\u001b[0m \u001b[0maxis\u001b[0m\u001b[1;33m,\u001b[0m \u001b[0mlabels\u001b[0m \u001b[1;32min\u001b[0m \u001b[0maxes\u001b[0m\u001b[1;33m.\u001b[0m\u001b[0mitems\u001b[0m\u001b[1;33m(\u001b[0m\u001b[1;33m)\u001b[0m\u001b[1;33m:\u001b[0m\u001b[1;33m\u001b[0m\u001b[0m\n\u001b[0;32m   3913\u001b[0m             \u001b[1;32mif\u001b[0m \u001b[0mlabels\u001b[0m \u001b[1;32mis\u001b[0m \u001b[1;32mnot\u001b[0m \u001b[1;32mNone\u001b[0m\u001b[1;33m:\u001b[0m\u001b[1;33m\u001b[0m\u001b[0m\n\u001b[1;32m-> 3914\u001b[1;33m                 \u001b[0mobj\u001b[0m \u001b[1;33m=\u001b[0m \u001b[0mobj\u001b[0m\u001b[1;33m.\u001b[0m\u001b[0m_drop_axis\u001b[0m\u001b[1;33m(\u001b[0m\u001b[0mlabels\u001b[0m\u001b[1;33m,\u001b[0m \u001b[0maxis\u001b[0m\u001b[1;33m,\u001b[0m \u001b[0mlevel\u001b[0m\u001b[1;33m=\u001b[0m\u001b[0mlevel\u001b[0m\u001b[1;33m,\u001b[0m \u001b[0merrors\u001b[0m\u001b[1;33m=\u001b[0m\u001b[0merrors\u001b[0m\u001b[1;33m)\u001b[0m\u001b[1;33m\u001b[0m\u001b[0m\n\u001b[0m\u001b[0;32m   3915\u001b[0m \u001b[1;33m\u001b[0m\u001b[0m\n\u001b[0;32m   3916\u001b[0m         \u001b[1;32mif\u001b[0m \u001b[0minplace\u001b[0m\u001b[1;33m:\u001b[0m\u001b[1;33m\u001b[0m\u001b[0m\n",
      "\u001b[1;32mc:\\users\\thejy\\appdata\\local\\programs\\python\\python36\\lib\\site-packages\\pandas\\core\\generic.py\u001b[0m in \u001b[0;36m_drop_axis\u001b[1;34m(self, labels, axis, level, errors)\u001b[0m\n\u001b[0;32m   3944\u001b[0m                 \u001b[0mnew_axis\u001b[0m \u001b[1;33m=\u001b[0m \u001b[0maxis\u001b[0m\u001b[1;33m.\u001b[0m\u001b[0mdrop\u001b[0m\u001b[1;33m(\u001b[0m\u001b[0mlabels\u001b[0m\u001b[1;33m,\u001b[0m \u001b[0mlevel\u001b[0m\u001b[1;33m=\u001b[0m\u001b[0mlevel\u001b[0m\u001b[1;33m,\u001b[0m \u001b[0merrors\u001b[0m\u001b[1;33m=\u001b[0m\u001b[0merrors\u001b[0m\u001b[1;33m)\u001b[0m\u001b[1;33m\u001b[0m\u001b[0m\n\u001b[0;32m   3945\u001b[0m             \u001b[1;32melse\u001b[0m\u001b[1;33m:\u001b[0m\u001b[1;33m\u001b[0m\u001b[0m\n\u001b[1;32m-> 3946\u001b[1;33m                 \u001b[0mnew_axis\u001b[0m \u001b[1;33m=\u001b[0m \u001b[0maxis\u001b[0m\u001b[1;33m.\u001b[0m\u001b[0mdrop\u001b[0m\u001b[1;33m(\u001b[0m\u001b[0mlabels\u001b[0m\u001b[1;33m,\u001b[0m \u001b[0merrors\u001b[0m\u001b[1;33m=\u001b[0m\u001b[0merrors\u001b[0m\u001b[1;33m)\u001b[0m\u001b[1;33m\u001b[0m\u001b[0m\n\u001b[0m\u001b[0;32m   3947\u001b[0m             \u001b[0mresult\u001b[0m \u001b[1;33m=\u001b[0m \u001b[0mself\u001b[0m\u001b[1;33m.\u001b[0m\u001b[0mreindex\u001b[0m\u001b[1;33m(\u001b[0m\u001b[1;33m**\u001b[0m\u001b[1;33m{\u001b[0m\u001b[0maxis_name\u001b[0m\u001b[1;33m:\u001b[0m \u001b[0mnew_axis\u001b[0m\u001b[1;33m}\u001b[0m\u001b[1;33m)\u001b[0m\u001b[1;33m\u001b[0m\u001b[0m\n\u001b[0;32m   3948\u001b[0m \u001b[1;33m\u001b[0m\u001b[0m\n",
      "\u001b[1;32mc:\\users\\thejy\\appdata\\local\\programs\\python\\python36\\lib\\site-packages\\pandas\\core\\indexes\\base.py\u001b[0m in \u001b[0;36mdrop\u001b[1;34m(self, labels, errors)\u001b[0m\n\u001b[0;32m   5338\u001b[0m         \u001b[1;32mif\u001b[0m \u001b[0mmask\u001b[0m\u001b[1;33m.\u001b[0m\u001b[0many\u001b[0m\u001b[1;33m(\u001b[0m\u001b[1;33m)\u001b[0m\u001b[1;33m:\u001b[0m\u001b[1;33m\u001b[0m\u001b[0m\n\u001b[0;32m   5339\u001b[0m             \u001b[1;32mif\u001b[0m \u001b[0merrors\u001b[0m \u001b[1;33m!=\u001b[0m \u001b[1;34m\"ignore\"\u001b[0m\u001b[1;33m:\u001b[0m\u001b[1;33m\u001b[0m\u001b[0m\n\u001b[1;32m-> 5340\u001b[1;33m                 \u001b[1;32mraise\u001b[0m \u001b[0mKeyError\u001b[0m\u001b[1;33m(\u001b[0m\u001b[1;34m\"{} not found in axis\"\u001b[0m\u001b[1;33m.\u001b[0m\u001b[0mformat\u001b[0m\u001b[1;33m(\u001b[0m\u001b[0mlabels\u001b[0m\u001b[1;33m[\u001b[0m\u001b[0mmask\u001b[0m\u001b[1;33m]\u001b[0m\u001b[1;33m)\u001b[0m\u001b[1;33m)\u001b[0m\u001b[1;33m\u001b[0m\u001b[0m\n\u001b[0m\u001b[0;32m   5341\u001b[0m             \u001b[0mindexer\u001b[0m \u001b[1;33m=\u001b[0m \u001b[0mindexer\u001b[0m\u001b[1;33m[\u001b[0m\u001b[1;33m~\u001b[0m\u001b[0mmask\u001b[0m\u001b[1;33m]\u001b[0m\u001b[1;33m\u001b[0m\u001b[0m\n\u001b[0;32m   5342\u001b[0m         \u001b[1;32mreturn\u001b[0m \u001b[0mself\u001b[0m\u001b[1;33m.\u001b[0m\u001b[0mdelete\u001b[0m\u001b[1;33m(\u001b[0m\u001b[0mindexer\u001b[0m\u001b[1;33m)\u001b[0m\u001b[1;33m\u001b[0m\u001b[0m\n",
      "\u001b[1;31mKeyError\u001b[0m: \"['Year'] not found in axis\""
     ]
    },
    {
     "data": {
      "text/plain": [
       "<Figure size 1440x1440 with 0 Axes>"
      ]
     },
     "metadata": {},
     "output_type": "display_data"
    }
   ],
   "source": [
    "# sns.palplot(sns.color_palette(\"BrBG\", 10))\n",
    "plt.figure(figsize = (20,20))\n",
    "corr_lst = list(df.select_dtypes(include=['int', 'float']).columns)\n",
    "corr_df = df[corr_lst]\n",
    "corr_df.drop(\"Year\", axis=1, inplace=True)\n",
    "corr = corr_df.corr()\n",
    "sns.set(font_scale=1.5)\n",
    "ax = sns.heatmap(corr, cmap=sns.diverging_palette(220, 20, as_cmap=True),\n",
    "                 annot=True, annot_kws={\"size\": 20})"
   ]
  },
  {
   "cell_type": "code",
   "execution_count": null,
   "metadata": {},
   "outputs": [],
   "source": [
    "print(ttest_ind(df['Overall teaching rate'], df[\"Overall course rate\"]))\n",
    "print(ttest_ind(df['Explains subject matter of course'], df[\"Overall course rate\"]))"
   ]
  },
  {
   "cell_type": "markdown",
   "metadata": {},
   "source": [
    "It seems that the `overall teaching rate` is highly correlated with `overall course rate` and `Explains subject matter of course`. <br>\n",
    "So we calculate the statistic significance, both of the p-values are < 0.05, so they're statistically significant.\n",
    "\n",
    "### Potentially fit a model for Overall Teaching Rate here?"
   ]
  },
  {
   "cell_type": "markdown",
   "metadata": {},
   "source": [
    "Now that we have found this interesting pattern for SCS department, we want to ask, does courses in SCS get **higher course rating** with **higher levels**? <br>\n",
    "i.e. Does a class like 15-4XX get higher rating than 15-1XX class in general?"
   ]
  },
  {
   "cell_type": "markdown",
   "metadata": {},
   "source": [
    "### Question: Does SCS course get higher course rating with higher levels?"
   ]
  },
  {
   "cell_type": "code",
   "execution_count": null,
   "metadata": {},
   "outputs": [],
   "source": [
    "df_dept = df.copy()\n",
    "def f(x):\n",
    "    # There are different course listing in the past\n",
    "    # such as \"FA14-12-100\" for CIT\n",
    "    # so here we preprocess these data and create a column for the course ID level\n",
    "    if x.startswith(\"F\"):\n",
    "        lst = x.split(\"-\")\n",
    "        x = lst[-2]+lst[-1]\n",
    "    x = x[-3:]\n",
    "    x = int(x)//100\n",
    "    return (x)\n",
    "df_dept[\"Course ID Level\"] = df_dept[\"Course ID\"].apply(f)"
   ]
  },
  {
   "cell_type": "code",
   "execution_count": null,
   "metadata": {},
   "outputs": [],
   "source": [
    "df_dept_plot = df_dept.groupby([\"College\", \"Dept\", \"Course ID Level\"], as_index=False).mean()\n",
    "df_dept_plot_selected = df_dept_plot[[\"College\", \"Dept\", \"Course ID Level\", \"Overall course rate\"]]\n",
    "df_dept_plot_selected[\"College\"].unique()"
   ]
  },
  {
   "cell_type": "code",
   "execution_count": null,
   "metadata": {},
   "outputs": [],
   "source": [
    "df_dept_plot_SCS = df_dept_plot_selected.loc[df_dept_plot_selected[\"College\"] == \" School of Computer Science\"]\n",
    "min_ID = df_dept_plot_SCS[\"Course ID Level\"].min()\n",
    "max_ID = df_dept_plot_SCS[\"Course ID Level\"].max()\n",
    "print(\"For SCS,\",\"min_ID =\", min_ID, \"max_ID=\", max_ID)"
   ]
  },
  {
   "cell_type": "code",
   "execution_count": null,
   "metadata": {},
   "outputs": [],
   "source": [
    "df_dept_plot_SCS[df_dept_plot_SCS[\"Dept\"]==\"SCS\"].head()\n",
    "# The \"SCS\" department seems buggy - it only has one course ID level\n",
    "# Let's drop it."
   ]
  },
  {
   "cell_type": "code",
   "execution_count": null,
   "metadata": {},
   "outputs": [],
   "source": [
    "df_dept_plot_SCS = df_dept_plot_SCS[df_dept_plot_SCS[\"Dept\"] !=\"SCS\"]"
   ]
  },
  {
   "cell_type": "code",
   "execution_count": null,
   "metadata": {},
   "outputs": [],
   "source": [
    "# df_dept_plot_CIT.plot(x=\"Dept\", y=\"Overall course rate\", kind=\"scatter\")\n",
    "plt_size = 10\n",
    "fig, ax = plt.subplots(figsize=(2*plt_size,plt_size))\n",
    "fig.suptitle('SCS Dept courses rating by level (color represents level)')\n",
    "ax.set_ylabel(\"Overall course rate\", fontsize=2*plt_size)\n",
    "ax.set_xlabel(\"SCS Department\", fontsize=2*plt_size)\n",
    "ax.scatter(df_dept_plot_SCS[\"Dept\"], \n",
    "           df_dept_plot_SCS[\"Overall course rate\"], \n",
    "           c = df_dept_plot_SCS[\"Course ID Level\"], \n",
    "           cmap = \"RdPu\",s=plt_size*30)\n",
    "\n",
    "# cite from https://stackoverflow.com/questions/8342549/matplotlib-add-colorbar-to-a-sequence-of-line-plots\n",
    "sm = plt.cm.ScalarMappable(cmap=\"RdPu\", norm=plt.Normalize(vmin=0, vmax=9))\n",
    "# need to \"fake\" an array for, otherwise throws an error\n",
    "sm._A = []\n",
    "plt.colorbar(sm)\n",
    "### correlation between the two columns, overall course rate and course level ID\n",
    "print(df_dept_plot_SCS['Course ID Level'].corr(df_dept_plot_SCS[\"Overall course rate\"]))\n",
    "ttest_ind(df_dept_plot_SCS['Course ID Level'], df_dept_plot_SCS[\"Overall course rate\"])"
   ]
  },
  {
   "cell_type": "markdown",
   "metadata": {},
   "source": [
    "It seems that in most departments in SCS, the highest level class tend to have higher rating among all the level of classes. The overall correlation between the `Course ID Level` and the `Overall course rate` is about 0.33."
   ]
  },
  {
   "cell_type": "code",
   "execution_count": null,
   "metadata": {},
   "outputs": [],
   "source": [
    "# debugging\n",
    "# df_dept_plot_SCS[df_dept_plot_SCS[\"Dept\"]==\"ISR\"]"
   ]
  },
  {
   "cell_type": "markdown",
   "metadata": {},
   "source": [
    "### Let's do the same plot for CMU in general!"
   ]
  },
  {
   "cell_type": "code",
   "execution_count": null,
   "metadata": {},
   "outputs": [],
   "source": [
    "df_dept_plot_All = df_dept_plot_selected.copy()\n",
    "min_ID = df_dept_plot_All[\"Course ID Level\"].min()\n",
    "max_ID = df_dept_plot_All[\"Course ID Level\"].max()\n",
    "print(\"For All,\",\"min_ID =\", min_ID, \"max_ID=\", max_ID)\n",
    "plt_size = 10\n",
    "fig, ax = plt.subplots(figsize=(2*plt_size,plt_size))\n",
    "fig.suptitle('All Dept courses rating by level (color represents level)')\n",
    "ax.set_ylabel(\"Overall course rate\", fontsize=plt_size)\n",
    "ax.set_xlabel(\"All Department\", fontsize=2*plt_size)\n",
    "ax.scatter(df_dept_plot_All[\"Dept\"], \n",
    "           df_dept_plot_All[\"Overall course rate\"], \n",
    "           c = df_dept_plot_All[\"Course ID Level\"], \n",
    "           cmap = \"RdPu\",s=plt_size*30)\n",
    "\n",
    "# Alle from https://stackoverflow.com/questions/8342549/matplotlib-add-colorbar-to-a-sequence-of-line-plots\n",
    "sm = plt.cm.ScalarMappable(cmap=\"RdPu\", norm=plt.Normalize(vmin=min_ID, vmax=max_ID))\n",
    "# need to \"fake\" an array for, otherwise throws an error\n",
    "sm._A = []\n",
    "plt.colorbar(sm)\n",
    "print(\"Correlation between All's Course ID Level and Overall Course Rating is\",\\\n",
    "      df_dept_plot_All['Course ID Level'].corr(df_dept_plot_All[\"Overall course rate\"]))\n",
    "ttest_ind(df_dept_plot_All['Course ID Level'], df_dept_plot_All[\"Overall course rate\"])"
   ]
  },
  {
   "cell_type": "markdown",
   "metadata": {},
   "source": [
    "Interesting! - so it seems that in the scope of all CMU departments, the `Course ID Level` and the `Overall Course Rating` is **positively correlated** with a **statistically significant p-value** of around **0.003**."
   ]
  },
  {
   "cell_type": "code",
   "execution_count": null,
   "metadata": {},
   "outputs": [],
   "source": []
  },
  {
   "cell_type": "code",
   "execution_count": null,
   "metadata": {},
   "outputs": [],
   "source": []
  }
 ],
 "metadata": {
  "kernelspec": {
   "display_name": "Python 3",
   "language": "python",
   "name": "python3"
  },
  "language_info": {
   "codemirror_mode": {
    "name": "ipython",
    "version": 3
   },
   "file_extension": ".py",
   "mimetype": "text/x-python",
   "name": "python",
   "nbconvert_exporter": "python",
   "pygments_lexer": "ipython3",
   "version": "3.6.5"
  }
 },
 "nbformat": 4,
 "nbformat_minor": 2
}
